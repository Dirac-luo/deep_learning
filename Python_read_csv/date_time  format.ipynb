{
 "cells": [
  {
   "cell_type": "code",
   "execution_count": 3,
   "metadata": {},
   "outputs": [
    {
     "name": "stdout",
     "output_type": "stream",
     "text": [
      "当前时间戳：1725808356.5721228\n"
     ]
    }
   ],
   "source": [
    "import time\n",
    "\n",
    "#  获取当前时间戳\n",
    "current_timestamp = time.time()\n",
    "print(f\"当前时间戳：{current_timestamp}\")"
   ]
  },
  {
   "cell_type": "code",
   "execution_count": 7,
   "metadata": {},
   "outputs": [
    {
     "name": "stdout",
     "output_type": "stream",
     "text": [
      "转换后的时间：2024-09-08 23:12:36\n"
     ]
    }
   ],
   "source": [
    "from datetime import datetime\n",
    "\n",
    "timestamp_to_date = datetime.fromtimestamp(current_timestamp).strftime('%Y-%m-%d %H:%M:%S')\n",
    "print(f\"转换后的时间：{timestamp_to_date}\")"
   ]
  },
  {
   "cell_type": "code",
   "execution_count": 6,
   "metadata": {},
   "outputs": [
    {
     "name": "stdout",
     "output_type": "stream",
     "text": [
      "wine_data.csv 最后修改时间戳：1723270218.5198464\n",
      "转换后：2024-08-10\n"
     ]
    }
   ],
   "source": [
    "import os.path, time\n",
    "\n",
    "filename = \"wine_data.csv\"\n",
    "if os.path.exists(filename):\n",
    "# 获取文件的最后修改时间戳\n",
    "    mod_time_stamp = os.path.getmtime(filename)\n",
    "    print(f\"{filename} 最后修改时间戳：{mod_time_stamp}\")\n",
    "    # 转换为日期\n",
    "    mod_date = datetime.fromtimestamp(mod_time_stamp).strftime('%Y-%m-%d')\n",
    "    print(f\"转换后：{mod_date}\")"
   ]
  },
  {
   "cell_type": "code",
   "execution_count": 8,
   "metadata": {},
   "outputs": [
    {
     "name": "stdout",
     "output_type": "stream",
     "text": [
      "在指定范围内的文件：[]\n"
     ]
    }
   ],
   "source": [
    "import  glob\n",
    "\n",
    "start_date  =  datetime(2023,  1,  1).timestamp()\n",
    "end_date  =  datetime(2023,  3,  1).timestamp()\n",
    "\n",
    "files_in_range  =  [f  for  f  in  glob.glob(\"*.txt\")  if  os.path.getmtime(f)  >=  start_date  and  os.path.getmtime(f)  <=  end_date]\n",
    "print(f\"在指定范围内的文件：{files_in_range}\")"
   ]
  },
  {
   "cell_type": "code",
   "execution_count": 9,
   "metadata": {},
   "outputs": [
    {
     "name": "stdout",
     "output_type": "stream",
     "text": [
      "UTC时间:2024-09-08 15:16:45.806121+00:00\n",
      "本地时间：2024-09-08 23:16:45.806121+08:00\n"
     ]
    }
   ],
   "source": [
    "from datetime import datetime,   timezone,   timedelta\n",
    "\n",
    "utc_time   =   datetime.now(timezone.utc)\n",
    "local_time   =   utc_time.astimezone()\n",
    "print(f\"UTC时间:{utc_time}\")\n",
    "print(f\"本地时间：{local_time}\")"
   ]
  },
  {
   "cell_type": "code",
   "execution_count": 10,
   "metadata": {},
   "outputs": [
    {
     "name": "stdout",
     "output_type": "stream",
     "text": [
      "解析后的日期：2023-04-01 12:00:00, 时间戳：1680321600.0\n"
     ]
    }
   ],
   "source": [
    "from dateutil.parser import parse\n",
    "\n",
    "date_str = \"2023-04-01 12:00 PM\"\n",
    "date_obj = parse(date_str)\n",
    "timestamp = date_obj.timestamp()\n",
    "print(f\"解析后的日期：{date_obj}, 时间戳：{timestamp}\")"
   ]
  },
  {
   "cell_type": "code",
   "execution_count": 11,
   "metadata": {},
   "outputs": [
    {
     "ename": "KeyboardInterrupt",
     "evalue": "",
     "output_type": "error",
     "traceback": [
      "\u001b[1;31m---------------------------------------------------------------------------\u001b[0m",
      "\u001b[1;31mKeyboardInterrupt\u001b[0m                         Traceback (most recent call last)",
      "Cell \u001b[1;32mIn[11], line 12\u001b[0m\n\u001b[0;32m     10\u001b[0m \u001b[38;5;28;01mwhile\u001b[39;00m \u001b[38;5;28;01mTrue\u001b[39;00m:\n\u001b[0;32m     11\u001b[0m     schedule\u001b[38;5;241m.\u001b[39mrun_pending()\n\u001b[1;32m---> 12\u001b[0m     time\u001b[38;5;241m.\u001b[39msleep(\u001b[38;5;241m1\u001b[39m)\n",
      "\u001b[1;31mKeyboardInterrupt\u001b[0m: "
     ]
    }
   ],
   "source": [
    "import schedule\n",
    "import time\n",
    "\n",
    "def job():\n",
    "   print(\"执行定时任务\")\n",
    "\n",
    "# 每天的12点执行任务\n",
    "schedule.every().day.at(\"12:00\").do(job)\n",
    "\n",
    "while True:\n",
    "    schedule.run_pending()\n",
    "    time.sleep(1)"
   ]
  },
  {
   "cell_type": "code",
   "execution_count": 12,
   "metadata": {},
   "outputs": [
    {
     "name": "stdout",
     "output_type": "stream",
     "text": [
      "时间差：2.000927686691284秒\n"
     ]
    }
   ],
   "source": [
    "timestamp1 = time.time()\n",
    "time.sleep(2) # 暂停2秒\n",
    "timestamp2 = time.time()\n",
    "\n",
    "delta = timestamp2 - timestamp1\n",
    "print(f\"时间差：{delta}秒\")"
   ]
  },
  {
   "cell_type": "code",
   "execution_count": 13,
   "metadata": {},
   "outputs": [
    {
     "name": "stdout",
     "output_type": "stream",
     "text": [
      "自定义格式的时间：08/09/2024 11:20 PM\n"
     ]
    }
   ],
   "source": [
    "from datetime import datetime\n",
    "\n",
    "custom_format = \"%d/%m/%Y %I:%M %p\"\n",
    "formatted_time = datetime.now().strftime(custom_format)\n",
    "print(f\"自定义格式的时间：{formatted_time}\")"
   ]
  },
  {
   "cell_type": "code",
   "execution_count": 14,
   "metadata": {},
   "outputs": [
    {
     "ename": "FileNotFoundError",
     "evalue": "[WinError 3] 系统找不到指定的路径。: './logs'",
     "output_type": "error",
     "traceback": [
      "\u001b[1;31m---------------------------------------------------------------------------\u001b[0m",
      "\u001b[1;31mFileNotFoundError\u001b[0m                         Traceback (most recent call last)",
      "Cell \u001b[1;32mIn[14], line 12\u001b[0m\n\u001b[0;32m      9\u001b[0m now \u001b[38;5;241m=\u001b[39m datetime\u001b[38;5;241m.\u001b[39mnow()\n\u001b[0;32m     10\u001b[0m threshold \u001b[38;5;241m=\u001b[39m now \u001b[38;5;241m-\u001b[39m timedelta(days\u001b[38;5;241m=\u001b[39mdays_to_keep)\n\u001b[1;32m---> 12\u001b[0m \u001b[38;5;28;01mfor\u001b[39;00m file \u001b[38;5;129;01min\u001b[39;00m os\u001b[38;5;241m.\u001b[39mlistdir(log_directory):\n\u001b[0;32m     13\u001b[0m     file_path \u001b[38;5;241m=\u001b[39m os\u001b[38;5;241m.\u001b[39mpath\u001b[38;5;241m.\u001b[39mjoin(log_directory, file)\n\u001b[0;32m     14\u001b[0m     \u001b[38;5;28;01mif\u001b[39;00m os\u001b[38;5;241m.\u001b[39mpath\u001b[38;5;241m.\u001b[39misfile(file_path):\n",
      "\u001b[1;31mFileNotFoundError\u001b[0m: [WinError 3] 系统找不到指定的路径。: './logs'"
     ]
    }
   ],
   "source": [
    "import os\n",
    "import shutil\n",
    "from datetime import datetime, timedelta\n",
    "\n",
    "log_directory = \"./logs\"\n",
    "archive_directory = \"./archives\"\n",
    "days_to_keep = 7\n",
    "\n",
    "now = datetime.now()\n",
    "threshold = now - timedelta(days=days_to_keep)\n",
    "\n",
    "for file in os.listdir(log_directory):\n",
    "    file_path = os.path.join(log_directory, file)\n",
    "    if os.path.isfile(file_path):\n",
    "        file_mtime = datetime.fromtimestamp(os.path.getmtime(file_path))\n",
    "        if file_mtime < threshold:\n",
    "            shutil.move(file_path, os.path.join(archive_directory, file))\n",
    "            print(f\"Moved {file} to archives.\")"
   ]
  }
 ],
 "metadata": {
  "kernelspec": {
   "display_name": "base",
   "language": "python",
   "name": "python3"
  },
  "language_info": {
   "codemirror_mode": {
    "name": "ipython",
    "version": 3
   },
   "file_extension": ".py",
   "mimetype": "text/x-python",
   "name": "python",
   "nbconvert_exporter": "python",
   "pygments_lexer": "ipython3",
   "version": "3.11.3"
  }
 },
 "nbformat": 4,
 "nbformat_minor": 2
}
